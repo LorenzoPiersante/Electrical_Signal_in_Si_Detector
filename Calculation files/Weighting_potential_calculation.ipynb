{
 "cells": [
  {
   "cell_type": "code",
   "execution_count": 1,
   "metadata": {},
   "outputs": [],
   "source": [
    "#This script uses the weighting_field_microstrip_parallel_update() function to calculate the weighting potential up to the\n",
    "#required tolerance level"
   ]
  },
  {
   "cell_type": "code",
   "execution_count": 2,
   "metadata": {},
   "outputs": [
    {
     "ename": "KeyboardInterrupt",
     "evalue": "",
     "output_type": "error",
     "traceback": [
      "\u001b[1;31m---------------------------------------------------------------------------\u001b[0m",
      "\u001b[1;31mKeyboardInterrupt\u001b[0m                         Traceback (most recent call last)",
      "\u001b[1;32m<ipython-input-2-c5d60ac5dfde>\u001b[0m in \u001b[0;36m<module>\u001b[1;34m\u001b[0m\n\u001b[1;32m----> 1\u001b[1;33m \u001b[1;32mfrom\u001b[0m \u001b[0mWeighting_field_function_parallel_update\u001b[0m \u001b[1;32mimport\u001b[0m \u001b[1;33m*\u001b[0m\u001b[1;33m\u001b[0m\u001b[1;33m\u001b[0m\u001b[0m\n\u001b[0m\u001b[0;32m      2\u001b[0m \u001b[1;32mimport\u001b[0m \u001b[0mmatplotlib\u001b[0m\u001b[1;33m.\u001b[0m\u001b[0mpyplot\u001b[0m \u001b[1;32mas\u001b[0m \u001b[0mplt\u001b[0m\u001b[1;33m\u001b[0m\u001b[1;33m\u001b[0m\u001b[0m\n\u001b[0;32m      3\u001b[0m \u001b[1;32mimport\u001b[0m \u001b[0mnumpy\u001b[0m \u001b[1;32mas\u001b[0m \u001b[0mnp\u001b[0m\u001b[1;33m\u001b[0m\u001b[1;33m\u001b[0m\u001b[0m\n",
      "\u001b[1;32m~\\Desktop\\Computational_project_programs\\Weigting field\\Improvement of sol with MP\\Weighting_field_function_parallel_update.py\u001b[0m in \u001b[0;36m<module>\u001b[1;34m\u001b[0m\n\u001b[0;32m     52\u001b[0m \u001b[1;33m\u001b[0m\u001b[0m\n\u001b[0;32m     53\u001b[0m \u001b[1;33m\u001b[0m\u001b[0m\n\u001b[1;32m---> 54\u001b[1;33m \u001b[1;32mimport\u001b[0m \u001b[0mnumpy\u001b[0m \u001b[1;32mas\u001b[0m \u001b[0mnp\u001b[0m\u001b[1;33m\u001b[0m\u001b[1;33m\u001b[0m\u001b[0m\n\u001b[0m\u001b[0;32m     55\u001b[0m \u001b[1;32mfrom\u001b[0m \u001b[0mBlock_structure\u001b[0m \u001b[1;32mimport\u001b[0m \u001b[1;33m*\u001b[0m\u001b[1;33m\u001b[0m\u001b[1;33m\u001b[0m\u001b[0m\n\u001b[0;32m     56\u001b[0m \u001b[1;32mfrom\u001b[0m \u001b[0mSolvers_residual\u001b[0m \u001b[1;32mimport\u001b[0m \u001b[1;33m*\u001b[0m\u001b[1;33m\u001b[0m\u001b[1;33m\u001b[0m\u001b[0m\n",
      "\u001b[1;32m~\\anaconda3\\lib\\site-packages\\numpy\\__init__.py\u001b[0m in \u001b[0;36m<module>\u001b[1;34m\u001b[0m\n\u001b[0;32m    150\u001b[0m     \u001b[1;32mfrom\u001b[0m \u001b[1;33m.\u001b[0m \u001b[1;32mimport\u001b[0m \u001b[0mfft\u001b[0m\u001b[1;33m\u001b[0m\u001b[1;33m\u001b[0m\u001b[0m\n\u001b[0;32m    151\u001b[0m     \u001b[1;32mfrom\u001b[0m \u001b[1;33m.\u001b[0m \u001b[1;32mimport\u001b[0m \u001b[0mpolynomial\u001b[0m\u001b[1;33m\u001b[0m\u001b[1;33m\u001b[0m\u001b[0m\n\u001b[1;32m--> 152\u001b[1;33m     \u001b[1;32mfrom\u001b[0m \u001b[1;33m.\u001b[0m \u001b[1;32mimport\u001b[0m \u001b[0mrandom\u001b[0m\u001b[1;33m\u001b[0m\u001b[1;33m\u001b[0m\u001b[0m\n\u001b[0m\u001b[0;32m    153\u001b[0m     \u001b[1;32mfrom\u001b[0m \u001b[1;33m.\u001b[0m \u001b[1;32mimport\u001b[0m \u001b[0mctypeslib\u001b[0m\u001b[1;33m\u001b[0m\u001b[1;33m\u001b[0m\u001b[0m\n\u001b[0;32m    154\u001b[0m     \u001b[1;32mfrom\u001b[0m \u001b[1;33m.\u001b[0m \u001b[1;32mimport\u001b[0m \u001b[0mma\u001b[0m\u001b[1;33m\u001b[0m\u001b[1;33m\u001b[0m\u001b[0m\n",
      "\u001b[1;32m~\\anaconda3\\lib\\site-packages\\numpy\\random\\__init__.py\u001b[0m in \u001b[0;36m<module>\u001b[1;34m\u001b[0m\n\u001b[0;32m    179\u001b[0m \u001b[1;33m\u001b[0m\u001b[0m\n\u001b[0;32m    180\u001b[0m \u001b[1;31m# add these for module-freeze analysis (like PyInstaller)\u001b[0m\u001b[1;33m\u001b[0m\u001b[1;33m\u001b[0m\u001b[1;33m\u001b[0m\u001b[0m\n\u001b[1;32m--> 181\u001b[1;33m \u001b[1;32mfrom\u001b[0m \u001b[1;33m.\u001b[0m \u001b[1;32mimport\u001b[0m \u001b[0m_pickle\u001b[0m\u001b[1;33m\u001b[0m\u001b[1;33m\u001b[0m\u001b[0m\n\u001b[0m\u001b[0;32m    182\u001b[0m \u001b[1;32mfrom\u001b[0m \u001b[1;33m.\u001b[0m \u001b[1;32mimport\u001b[0m \u001b[0m_common\u001b[0m\u001b[1;33m\u001b[0m\u001b[1;33m\u001b[0m\u001b[0m\n\u001b[0;32m    183\u001b[0m \u001b[1;32mfrom\u001b[0m \u001b[1;33m.\u001b[0m \u001b[1;32mimport\u001b[0m \u001b[0m_bounded_integers\u001b[0m\u001b[1;33m\u001b[0m\u001b[1;33m\u001b[0m\u001b[0m\n",
      "\u001b[1;32m~\\anaconda3\\lib\\site-packages\\numpy\\random\\_pickle.py\u001b[0m in \u001b[0;36m<module>\u001b[1;34m\u001b[0m\n\u001b[1;32m----> 1\u001b[1;33m \u001b[1;32mfrom\u001b[0m \u001b[1;33m.\u001b[0m\u001b[0mmtrand\u001b[0m \u001b[1;32mimport\u001b[0m \u001b[0mRandomState\u001b[0m\u001b[1;33m\u001b[0m\u001b[1;33m\u001b[0m\u001b[0m\n\u001b[0m\u001b[0;32m      2\u001b[0m \u001b[1;32mfrom\u001b[0m \u001b[1;33m.\u001b[0m\u001b[0m_philox\u001b[0m \u001b[1;32mimport\u001b[0m \u001b[0mPhilox\u001b[0m\u001b[1;33m\u001b[0m\u001b[1;33m\u001b[0m\u001b[0m\n\u001b[0;32m      3\u001b[0m \u001b[1;32mfrom\u001b[0m \u001b[1;33m.\u001b[0m\u001b[0m_pcg64\u001b[0m \u001b[1;32mimport\u001b[0m \u001b[0mPCG64\u001b[0m\u001b[1;33m\u001b[0m\u001b[1;33m\u001b[0m\u001b[0m\n\u001b[0;32m      4\u001b[0m \u001b[1;32mfrom\u001b[0m \u001b[1;33m.\u001b[0m\u001b[0m_sfc64\u001b[0m \u001b[1;32mimport\u001b[0m \u001b[0mSFC64\u001b[0m\u001b[1;33m\u001b[0m\u001b[1;33m\u001b[0m\u001b[0m\n\u001b[0;32m      5\u001b[0m \u001b[1;33m\u001b[0m\u001b[0m\n",
      "\u001b[1;32mmtrand.pyx\u001b[0m in \u001b[0;36minit numpy.random.mtrand\u001b[1;34m()\u001b[0m\n",
      "\u001b[1;32m_bit_generator.pyx\u001b[0m in \u001b[0;36minit numpy.random._bit_generator\u001b[1;34m()\u001b[0m\n",
      "\u001b[1;32m~\\anaconda3\\lib\\importlib\\_bootstrap.py\u001b[0m in \u001b[0;36mparent\u001b[1;34m(self)\u001b[0m\n",
      "\u001b[1;31mKeyboardInterrupt\u001b[0m: "
     ]
    }
   ],
   "source": [
    "from Weighting_field_function_parallel_update import *\n",
    "import matplotlib.pyplot as plt\n",
    "import numpy as np"
   ]
  },
  {
   "cell_type": "code",
   "execution_count": null,
   "metadata": {},
   "outputs": [],
   "source": [
    "#load the initial guesses, they are calculated using the approximate analytical solution given in Appendix B \n",
    "#of Particle Detectors: Fundamentals and Applications. Hermann Kolanoski and Norbert Wermes. © Hermann Kolanoski \n",
    "#and Norbert Wermes 2020. Published in 2020 by Oxford University Press.\n",
    "\n",
    "\n",
    "potential_B_left = np.loadtxt(\"potential_B_left_guess.csv\")\n",
    "potential_left_1 = np.loadtxt(\"potential_left_1_guess.csv\")\n",
    "potential_left_2 = np.loadtxt(\"potential_left_2_guess.csv\")\n",
    "potential_left_3 = np.loadtxt(\"potential_left_3_guess.csv\")\n",
    "potential_left_4 = np.loadtxt(\"potential_left_4_guess.csv\")\n",
    "potential_central = np.loadtxt(\"potential_central_guess.csv\")\n",
    "potential_right_1 = np.loadtxt(\"potential_right_1_guess.csv\")\n",
    "potential_right_2 = np.loadtxt(\"potential_right_2_guess.csv\")\n",
    "potential_right_3 = np.loadtxt(\"potential_right_3_guess.csv\")\n",
    "potential_right_4 = np.loadtxt(\"potential_right_4_guess.csv\")\n",
    "potential_B_right = np.loadtxt(\"potential_B_right_guess.csv\")\n",
    "\n",
    "potential_B_left_t = np.loadtxt(\"potential_B_left_t_guess.csv\")\n",
    "potential_left_1_t = np.loadtxt(\"potential_left_1_t_guess.csv\")\n",
    "potential_left_2_t = np.loadtxt(\"potential_left_2_t_guess.csv\")\n",
    "potential_left_3_t = np.loadtxt(\"potential_left_3_t_guess.csv\")\n",
    "potential_left_4_t = np.loadtxt(\"potential_left_4_t_guess.csv\")\n",
    "potential_central_t = np.loadtxt(\"potential_central_t_guess.csv\")\n",
    "potential_right_1_t = np.loadtxt(\"potential_right_1_t_guess.csv\")\n",
    "potential_right_2_t = np.loadtxt(\"potential_right_2_t_guess.csv\")\n",
    "potential_right_3_t = np.loadtxt(\"potential_right_3_t_guess.csv\")\n",
    "potential_right_4_t = np.loadtxt(\"potential_right_4_t_guess.csv\")\n",
    "potential_B_right_t = np.loadtxt(\"potential_B_right_t_guess.csv\")"
   ]
  },
  {
   "cell_type": "code",
   "execution_count": null,
   "metadata": {},
   "outputs": [],
   "source": [
    "#create the dictionaries\n",
    "\n",
    "potential_dict = {0 : potential_B_left, 1 : potential_left_4, 2 : potential_left_3, 3 : potential_left_2, 4 : potential_left_1, 5 : potential_central, \n",
    "                  6 : potential_right_1, 7 : potential_right_2, 8 : potential_right_3, 9 : potential_right_4, 10 : potential_B_right}\n",
    "\n",
    "potential_t_dict ={0 : potential_B_left_t, 1 : potential_left_4_t, 2 : potential_left_3_t, 3 : potential_left_2_t, 4 : potential_left_1_t, 5 : potential_central_t, 6 : potential_right_1_t, \n",
    "                   7 : potential_right_2_t, 8 : potential_right_3_t, 9 : potential_right_4_t, 10 : potential_B_right_t}"
   ]
  },
  {
   "cell_type": "code",
   "execution_count": null,
   "metadata": {
    "scrolled": true
   },
   "outputs": [],
   "source": [
    "#launch the function\n",
    "\n",
    "pitch = 100\n",
    "height = 900 #heigh of the domain, heigh of the detector is 300\n",
    "tolerance = 10**(-3)\n",
    "over_relax = 1.85\n",
    "\n",
    "potential_dict_new, potential_t_dict_new = weighting_field_microstrip_parallel_update(pitch, height, tolerance, over_relax, potential_dict, potential_t_dict)"
   ]
  },
  {
   "cell_type": "code",
   "execution_count": null,
   "metadata": {},
   "outputs": [],
   "source": [
    "#plotting the potential of the required block\n",
    "\n",
    "mesh_size_1 = 0.5\n",
    "N_x_1 = int(pitch/mesh_size_1)\n",
    "N_y_1 = int(height/mesh_size_1)\n",
    "\n",
    "potential_plane = np.zeros((N_y_1, N_x_1))\n",
    "unpack = potential_dict_new[8]\n",
    "\n",
    "for i in range(0, N_y_1):\n",
    "    for j in range(0, N_x_1):\n",
    "        \n",
    "        location = i*N_x_1 + j\n",
    "        \n",
    "        potential_plane[i, j] = unpack[location]\n",
    "\n",
    "x = np.arange(0, 100, mesh_size_1)\n",
    "y = np.arange(0, 900, mesh_size_1)\n",
    "\n",
    "X, Y = np.meshgrid(x, y)\n",
    "\n",
    "fig, ax = plt.subplots(1, 1, figsize = (8, 8))\n",
    "cax = ax.contour(X, Y, potential_plane, 40)\n",
    "fig.colorbar(cax)"
   ]
  },
  {
   "cell_type": "code",
   "execution_count": null,
   "metadata": {},
   "outputs": [],
   "source": [
    "#extract from dictionry and save all potentials as csv files\n",
    "\n",
    "potential_B_left_new_new = potential_dict_new[0]\n",
    "potential_left_4_new_new = potential_dict_new[1]\n",
    "potential_left_3_new_new = potential_dict_new[2]\n",
    "potential_left_2_new_new = potential_dict_new[3]\n",
    "potential_left_1_new_new = potential_dict_new[4]\n",
    "potential_central_new_new = potential_dict_new[5]\n",
    "potential_right_1_new_new = potential_dict_new[6]\n",
    "potential_right_2_new_new = potential_dict_new[7]\n",
    "potential_right_3_new_new = potential_dict_new[8]\n",
    "potential_right_4_new_new = potential_dict_new[9]\n",
    "potential_B_right_new_new = potential_dict_new[10]\n",
    "\n",
    "potential_B_left_t_new_new = potential_t_dict_new[0]\n",
    "potential_left_4_t_new_new = potential_t_dict_new[1]\n",
    "potential_left_3_t_new_new = potential_t_dict_new[2]\n",
    "potential_left_2_t_new_new = potential_t_dict_new[3]\n",
    "potential_left_1_t_new_new = potential_t_dict_new[4]\n",
    "potential_central_t_new_new = potential_t_dict_new[5]\n",
    "potential_right_1_t_new_new = potential_t_dict_new[6]\n",
    "potential_right_2_t_new_new = potential_t_dict_new[7]\n",
    "potential_right_3_t_new_new = potential_t_dict_new[8]\n",
    "potential_right_4_t_new_new = potential_t_dict_new[9]\n",
    "potential_B_right_t_new_new = potential_t_dict_new[10]\n",
    "\n",
    "np.savetxt(\"potential_B_left.csv\", potential_B_left_new_new, delimiter = \",\")\n",
    "np.savetxt(\"potential_left_4.csv\", potential_left_4_new_new, delimiter = \",\")\n",
    "np.savetxt(\"potential_left_3.csv\", potential_left_3_new_new, delimiter = \",\")\n",
    "np.savetxt(\"potential_left_2.csv\", potential_left_2_new_new, delimiter = \",\")\n",
    "np.savetxt(\"potential_left_1.csv\", potential_left_1_new_new, delimiter = \",\")\n",
    "np.savetxt(\"potential_central.csv\", potential_central_new_new, delimiter = \",\")\n",
    "np.savetxt(\"potential_right_1.csv\", potential_right_1_new_new, delimiter = \",\")\n",
    "np.savetxt(\"potential_right_2.csv\", potential_right_2_new_new, delimiter = \",\")\n",
    "np.savetxt(\"potential_right_3.csv\", potential_right_3_new_new, delimiter = \",\")\n",
    "np.savetxt(\"potential_right_4.csv\", potential_right_4_new_new, delimiter = \",\")\n",
    "np.savetxt(\"potential_B_right.csv\", potential_B_right_new_new, delimiter = \",\")\n",
    "\n",
    "np.savetxt(\"potential_B_left_t.csv\", potential_B_left_t_new, delimiter = \",\")\n",
    "np.savetxt(\"potential_left_4_t.csv\", potential_left_4_t_new, delimiter = \",\")\n",
    "np.savetxt(\"potential_left_3_t.csv\", potential_left_3_t_new, delimiter = \",\")\n",
    "np.savetxt(\"potential_left_2_t.csv\", potential_left_2_t_new, delimiter = \",\")\n",
    "np.savetxt(\"potential_left_1_t.csv\", potential_left_1_t_new, delimiter = \",\")\n",
    "np.savetxt(\"potential_central_t.csv\", potential_central_t_new, delimiter = \",\")\n",
    "np.savetxt(\"potential_right_1_t.csv\", potential_right_1_t_new, delimiter = \",\")\n",
    "np.savetxt(\"potential_right_2_t.csv\", potential_right_2_t_new, delimiter = \",\")\n",
    "np.savetxt(\"potential_right_3_t.csv\", potential_right_3_t_new, delimiter = \",\")\n",
    "np.savetxt(\"potential_right_4_t.csv\", potential_right_4_t_new, delimiter = \",\")\n",
    "np.savetxt(\"potential_B_right_t.csv\", potential_B_right_t_new, delimiter = \",\")"
   ]
  }
 ],
 "metadata": {
  "kernelspec": {
   "display_name": "Python 3",
   "language": "python",
   "name": "python3"
  },
  "language_info": {
   "codemirror_mode": {
    "name": "ipython",
    "version": 3
   },
   "file_extension": ".py",
   "mimetype": "text/x-python",
   "name": "python",
   "nbconvert_exporter": "python",
   "pygments_lexer": "ipython3",
   "version": "3.8.3"
  }
 },
 "nbformat": 4,
 "nbformat_minor": 4
}
